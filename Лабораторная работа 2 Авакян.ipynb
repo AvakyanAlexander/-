{
  "nbformat": 4,
  "nbformat_minor": 0,
  "metadata": {
    "colab": {
      "provenance": []
    },
    "kernelspec": {
      "name": "python3",
      "display_name": "Python 3"
    },
    "language_info": {
      "name": "python"
    }
  },
  "cells": [
    {
      "cell_type": "markdown",
      "source": [
        "# Лабораторная работа №2 - Глобальная оптимизация и метаэврестические алгоритмы\n",
        "\n",
        "## В Pygmo запрогроммировать две своих тестовых функции и найти их оптимум 3 разными алгоритмами доступными в библиотеке и получить таблицу сравнения"
      ],
      "metadata": {
        "id": "2Owdv7kBY97C"
      }
    },
    {
      "cell_type": "code",
      "execution_count": 19,
      "metadata": {
        "colab": {
          "base_uri": "https://localhost:8080/"
        },
        "id": "R6maSmOqWg8G",
        "outputId": "7dd8ea12-c310-46f2-c4b5-3a5a896c38db"
      },
      "outputs": [
        {
          "output_type": "stream",
          "name": "stdout",
          "text": [
            "Requirement already satisfied: pygmo in /usr/local/lib/python3.10/dist-packages (2.19.5)\n",
            "Requirement already satisfied: numpy in /usr/local/lib/python3.10/dist-packages (from pygmo) (1.26.4)\n",
            "Requirement already satisfied: cloudpickle in /usr/local/lib/python3.10/dist-packages (from pygmo) (3.1.0)\n",
            "Requirement already satisfied: scipy in /usr/local/lib/python3.10/dist-packages (from pygmo) (1.13.1)\n"
          ]
        }
      ],
      "source": [
        "!pip install pygmo"
      ]
    },
    {
      "cell_type": "markdown",
      "source": [
        "##Подключим библиотеки"
      ],
      "metadata": {
        "id": "CdITSKacajuD"
      }
    },
    {
      "cell_type": "code",
      "source": [
        "import pygmo as pg\n",
        "import numpy as np\n",
        "import pandas as pd\n"
      ],
      "metadata": {
        "id": "NGWg75e9Wsi1"
      },
      "execution_count": 20,
      "outputs": []
    },
    {
      "cell_type": "markdown",
      "source": [
        "##Возьмем тестовые функции из прошлой лабораторной работы (Функция Бута и Функция МакКормика)"
      ],
      "metadata": {
        "id": "QCKI9hIdapPq"
      }
    },
    {
      "cell_type": "code",
      "source": [
        "\n",
        "class booth:\n",
        "    def fitness(self, x):\n",
        "        # Метод должен возвращать список\n",
        "        return [(x[0] + 2*x[1] - 7)**2 + (2*x[0] + x[1] - 5)**2]\n",
        "\n",
        "    def get_bounds(self):\n",
        "        return [-10, -10], [10, 10]\n",
        "\n",
        "class mccormick:\n",
        "    def fitness(self, x):\n",
        "        # Метод должен возвращать список\n",
        "        return [np.sin(x[0] + x[1]) + (x[0] - x[1])**2 - 1.5 * x[0] + 2.5 * x[1] + 1]\n",
        "\n",
        "    def get_bounds(self):\n",
        "        return [-1.5, -3], [4, 4]\n"
      ],
      "metadata": {
        "id": "DIbKpI-rYRXC"
      },
      "execution_count": 22,
      "outputs": []
    },
    {
      "cell_type": "markdown",
      "source": [
        "## Выберем 3 разные алгоритма, которые доступны в библиотеке\n",
        "\n",
        "####Grey wolf optimizer (GWO) — метаэвристический стохастический алгоритм роевого интеллекта, разработанный в 2014 году. Идея алгоритма построена на основе модели охоты стаи серых волков\n",
        "####Self-adaptive Differential Evolution (SaDE) — метод глобальной оптимизации, основанный на методе дифференциальной эволюции.\n",
        "####Particle swarm optimization (PSO) — это основанный на популяции метод, который определяет набор «частиц», исследующих область поиска для обнаружения минимума"
      ],
      "metadata": {
        "id": "Fdwg0EhjbAh6"
      }
    },
    {
      "cell_type": "code",
      "source": [
        "Local_Search = pg.algorithm(pg.pso())\n",
        "Grey_wolf_optimizer = pg.algorithm(pg.gwo())\n",
        "Self_adaptive_differential_evolution = pg.algorithm(pg.sade())\n",
        "\n",
        "def test(optimization_problem, optimization_algorithm, size_of_population=50):\n",
        "    population = pg.population(optimization_problem, size=size_of_population)\n",
        "    population = optimization_algorithm.evolve(population)\n",
        "    optimal_solution = population.champion_x\n",
        "    optimal_fitness = population.champion_f[0]\n",
        "    return optimal_solution[0], optimal_solution[1], optimal_fitness\n"
      ],
      "metadata": {
        "id": "D-uhyjqjr5Yx"
      },
      "execution_count": 24,
      "outputs": []
    },
    {
      "cell_type": "markdown",
      "source": [
        "##Протестируем на функции Бута и получим таблицу сравнения"
      ],
      "metadata": {
        "id": "2IME6f6XPe89"
      }
    },
    {
      "cell_type": "code",
      "source": [
        "booth_problem = pg.problem(booth())\n",
        "list_results = []\n",
        "list_algs = [Grey_wolf_optimizer, Self_adaptive_differential_evolution, Local_Search]\n",
        "list_literas = ['Particle swarm optimization', 'Self-adaptive Differential Evolution', 'Grey wolf optimizer']\n",
        "counter = 0\n",
        "for i in list_algs:\n",
        "  final_res = test(booth_problem, i)\n",
        "  list_results.append((list_literas[counter], *final_res))\n",
        "  counter+=1\n",
        "print(list_results)"
      ],
      "metadata": {
        "colab": {
          "base_uri": "https://localhost:8080/"
        },
        "id": "eOPmsEsYmBtN",
        "outputId": "98b7462d-cce9-47ba-c47f-bde809c30b9f"
      },
      "execution_count": 25,
      "outputs": [
        {
          "output_type": "stream",
          "name": "stdout",
          "text": [
            "[('Particle swarm optimization', -0.10349540660736523, 4.456702371719052, 3.8387045529890984), ('Self-adaptive Differential Evolution', -0.42205812579626745, 5.283625387574858, 10.20638681019425), ('Grey wolf optimizer', 0.10846843422416108, 4.632007610053449, 5.65149646064316)]\n"
          ]
        }
      ]
    },
    {
      "cell_type": "code",
      "source": [
        "res_booth = pd.DataFrame(list_results, columns=[ 'Алгоритм',\n",
        "                                                'x',\n",
        "                                                'y',\n",
        "                                                'f(x, y)'])\n",
        "print(res_booth)"
      ],
      "metadata": {
        "colab": {
          "base_uri": "https://localhost:8080/"
        },
        "id": "Cp6PKtQimKBg",
        "outputId": "6fb1395f-0d7e-4521-8557-15e77523414b"
      },
      "execution_count": 26,
      "outputs": [
        {
          "output_type": "stream",
          "name": "stdout",
          "text": [
            "                               Алгоритм         x         y    f(x, y)\n",
            "0           Particle swarm optimization -0.103495  4.456702   3.838705\n",
            "1  Self-adaptive Differential Evolution -0.422058  5.283625  10.206387\n",
            "2                   Grey wolf optimizer  0.108468  4.632008   5.651496\n"
          ]
        }
      ]
    },
    {
      "cell_type": "code",
      "source": [
        "mccormick_problem = pg.problem(mccormick())\n",
        "list_results = []\n",
        "list_algs = [Grey_wolf_optimizer, Self_adaptive_differential_evolution, Local_Search]\n",
        "list_literas = ['Particle swarm optimization', 'Self-adaptive Differential Evolution', 'Grey wolf optimizer']\n",
        "counter = 0\n",
        "for i in list_algs:\n",
        "  final_res = test(mccormick_problem, i)\n",
        "  list_results.append((list_literas[counter], *final_res))\n",
        "  counter+=1\n",
        "print(list_results)"
      ],
      "metadata": {
        "colab": {
          "base_uri": "https://localhost:8080/"
        },
        "id": "Du9GW2toa_vn",
        "outputId": "576cf7ab-84c8-4545-8aff-922f7ff63ee6"
      },
      "execution_count": 31,
      "outputs": [
        {
          "output_type": "stream",
          "name": "stdout",
          "text": [
            "[('Particle swarm optimization', -0.7359934849838863, -1.8519772540400856, -1.8063046996202274), ('Self-adaptive Differential Evolution', -0.9081154004410105, -1.6883906487608025, -1.7684662044359136), ('Grey wolf optimizer', -0.5009442259270682, -1.3282465213431554, -1.8515723720728978)]\n"
          ]
        }
      ]
    },
    {
      "cell_type": "code",
      "source": [
        "res_mccormick = pd.DataFrame(list_results, columns=[ 'Алгоритм',\n",
        "                                                'x',\n",
        "                                                'y',\n",
        "                                                'f(x, y)'])\n",
        "print(res_mccormick)"
      ],
      "metadata": {
        "colab": {
          "base_uri": "https://localhost:8080/"
        },
        "id": "fBUYID4Zc58d",
        "outputId": "9fa1b2a8-a0a6-429b-f0ad-ef5b56dfd78a"
      },
      "execution_count": 32,
      "outputs": [
        {
          "output_type": "stream",
          "name": "stdout",
          "text": [
            "                               Алгоритм         x         y   f(x, y)\n",
            "0           Particle swarm optimization -0.735993 -1.851977 -1.806305\n",
            "1  Self-adaptive Differential Evolution -0.908115 -1.688391 -1.768466\n",
            "2                   Grey wolf optimizer -0.500944 -1.328247 -1.851572\n"
          ]
        }
      ]
    }
  ]
}